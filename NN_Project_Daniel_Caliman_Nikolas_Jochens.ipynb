{
  "cells": [
    {
      "cell_type": "code",
      "execution_count": 1,
      "metadata": {
        "id": "L5sF8jVpamBh"
      },
      "outputs": [],
      "source": [
        "import torch\n",
        "import einops\n",
        "import numpy as np\n",
        "from torch import nn\n",
        "from PIL import Image\n",
        "from tqdm import tqdm\n",
        "from torchvision import transforms, datasets\n",
        "from torch.utils.data import Dataset, DataLoader"
      ]
    },
    {
      "cell_type": "code",
      "execution_count": 2,
      "metadata": {
        "id": "8O7HgAaXcR1w"
      },
      "outputs": [],
      "source": [
        "class SpatialGatingUnit(nn.Module):\n",
        "    def __init__(self, seq_len, d_ffn):\n",
        "        super().__init__()\n",
        "        self.norm = nn.LayerNorm(d_ffn)\n",
        "        self.spatial_proj = nn.Conv1d(seq_len, seq_len, kernel_size=1) #pointwise convolution, used to learn a set of weights for each position\n",
        "        nn.init.constant_(self.spatial_proj.bias, 1.0) #bias initialization\n",
        " \n",
        "    def forward(self, x):\n",
        "        u, v = x.chunk(2, dim=-1) # we split the input along the last dimension\n",
        "        v = self.norm(v) # we apply layer normalization to the second part\n",
        "        v = self.spatial_proj(v) # we project the second part to the same dimension as the first part by using a 1D convolution\n",
        "        return u * v"
      ]
    },
    {
      "cell_type": "code",
      "execution_count": 3,
      "metadata": {
        "id": "DbZvAKH5eS09"
      },
      "outputs": [],
      "source": [
        "class gMLPBlock(nn.Module): #Gated MLP block\n",
        "    def __init__(self, seq_len, d_model, d_ffn):\n",
        "        super().__init__()\n",
        "        self.block = nn.Sequential(\n",
        "            nn.LayerNorm(d_model),\n",
        "            nn.Linear(d_model, 2 * d_ffn), # channel proj\n",
        "            nn.GELU(), #Gaussian Error Linear Units\n",
        "            SpatialGatingUnit(seq_len, d_ffn), # contains spatial proj, in which we project the output of SGU back to d_model dimension\n",
        "            nn.Linear(d_ffn, d_model) # channel proj\n",
        "        )\n",
        "\n",
        "    def forward(self, x):\n",
        "        return x + self.block(x) # residual connection, helps to avoid vanishing gradient problem\n",
        "                                 # we add the output of the block to the input of the block"
      ]
    },
    {
      "cell_type": "code",
      "execution_count": 4,
      "metadata": {
        "id": "eXez7K0MfyK2"
      },
      "outputs": [],
      "source": [
        "class gMLP(nn.Module):\n",
        "    def __init__(self, seq_len=256, d_model=256, d_ffn=512, n_layers=6):\n",
        "        super().__init__()\n",
        "        self.blocks = nn.Sequential(\n",
        "            *[gMLPBlock(seq_len, d_model, d_ffn) for _ in range(n_layers)]\n",
        "        )\n",
        "\n",
        "    def forward(self, x):\n",
        "        return self.blocks(x)"
      ]
    },
    {
      "cell_type": "code",
      "execution_count": 5,
      "metadata": {
        "id": "IuXMfw5Ei0W-"
      },
      "outputs": [],
      "source": [
        "class gMLPVisionModel(nn.Module):\n",
        "    def __init__(self, in_channels=3, image_size=64, patch_size=8, d_model=256, d_ffn=512, n_layers=6, n_classes=10, dropout=0.1):\n",
        "        # d_model = dimension of the output of gMLP block \n",
        "        # d_ffn = dimension of the feedforward network\n",
        "        super().__init__()\n",
        "        assert image_size % patch_size == 0, \"image size must be divisible by patch size!!\"\n",
        "        n_patches = (image_size // patch_size) ** 2\n",
        "        self.dropout = nn.Dropout(dropout)\n",
        "        self.patch_embedding = nn.Conv2d(in_channels, d_model, kernel_size=patch_size, stride=patch_size)\n",
        "        self.gmlp = gMLP(n_patches, d_model, d_ffn, n_layers)\n",
        "        self.bn = nn.BatchNorm1d(d_model)\n",
        "        self.fc_out = nn.Linear(d_model, n_classes)\n",
        "\n",
        "    def forward(self, x):\n",
        "        x = self.patch_embedding(x)\n",
        "        x = x.permute(0, 2, 3, 1)  # rearrange dimensions to (batch_size, height, width, channels)\n",
        "        x = x.contiguous().view(x.size(0), -1, x.size(-1))  # flatten height and width dimensions\n",
        "        #x = einops.rearrange(x, \"batch_size channels height width -> batch_size (height*weight) channels\")\n",
        "        \n",
        "        x = self.gmlp(x)\n",
        "        x = x.mean(1)\n",
        "        out = self.fc_out(x)\n",
        "        return out"
      ]
    },
    {
      "cell_type": "code",
      "execution_count": 6,
      "metadata": {
        "colab": {
          "base_uri": "https://localhost:8080/"
        },
        "id": "JiEsw6JiRlGx",
        "outputId": "e053df87-0920-4725-fa83-8fec4443c7f0"
      },
      "outputs": [],
      "source": [
        "# # hyperparameters for vision and language models\n",
        "# device = torch.device(\"cuda\" if torch.cuda.is_available() else \"cpu\")\n",
        "# n_epochs = 10\n",
        "# seq_len = 128\n",
        "# img_size = 32\n",
        "# batch_size = 64\n",
        "# n_classes = 10\n",
        "# lr = 3e-4\n",
        "# T = transforms.Compose(\n",
        "#     [\n",
        "#      transforms.Resize((img_size, img_size)),\n",
        "#      transforms.ToTensor()\n",
        "#     ]\n",
        "# )\n",
        "# print(device)"
      ]
    },
    {
      "cell_type": "code",
      "execution_count": 7,
      "metadata": {
        "id": "k1kcQ0sfjNs_"
      },
      "outputs": [],
      "source": [
        "# vision model"
      ]
    },
    {
      "cell_type": "code",
      "execution_count": 8,
      "metadata": {
        "colab": {
          "base_uri": "https://localhost:8080/"
        },
        "id": "Ds9yEGdYiS3R",
        "outputId": "8f5979fd-8fcf-4894-d04f-a73dd019dbb1"
      },
      "outputs": [],
      "source": [
        "# train_data_vm = datasets.CIFAR10(\"data/\", train=True, download=True, transform=T)\n",
        "# val_data_vm = datasets.CIFAR10(\"data/\", train=False, download=True, transform=T)\n",
        "# train_loader_vm = DataLoader(train_data_vm, batch_size=batch_size, shuffle=True, num_workers=2, pin_memory=True)\n",
        "# val_loader_vm = DataLoader(val_data_vm, batch_size=batch_size, shuffle=False, num_workers=2, pin_memory=True)\n",
        "# x, y = next(iter(train_loader_vm))\n",
        "# print(len(train_data_vm), x.shape, y.shape)"
      ]
    },
    {
      "cell_type": "code",
      "execution_count": 9,
      "metadata": {
        "colab": {
          "base_uri": "https://localhost:8080/"
        },
        "id": "WcwhTE2wiSz3",
        "outputId": "011796e3-d687-4067-d0b0-00fe81788466"
      },
      "outputs": [],
      "source": [
        "# gmlp_vm = gMLPVisionModel(n_classes=n_classes).to(device)\n",
        "# inp = torch.randn(1, 3, img_size, img_size).to(device)\n",
        "# out = gmlp_vm(inp)\n",
        "# print(out.shape)\n",
        "# del inp, out"
      ]
    },
    {
      "cell_type": "code",
      "execution_count": 10,
      "metadata": {
        "id": "tu6RNYVOiSxg"
      },
      "outputs": [],
      "source": [
        "# optimizer_vm = torch.optim.Adam(gmlp_vm.parameters(), lr=lr)\n",
        "# loss_fn_vm = nn.CrossEntropyLoss()\n",
        "# def get_accuracy(preds, y):\n",
        "#     preds = preds.argmax(dim=1, keepdim=True)\n",
        "#     correct = preds.squeeze(1).eq(y)\n",
        "#     acc = correct.sum() / torch.FloatTensor([y.shape[0]]).to(device)\n",
        "#     return acc"
      ]
    },
    {
      "cell_type": "code",
      "execution_count": 11,
      "metadata": {
        "id": "ODz_ZhBjiSvT"
      },
      "outputs": [],
      "source": [
        "def loop_vm(net, loader, is_train):\n",
        "    net.train(is_train)\n",
        "    losses = []\n",
        "    accs = []\n",
        "    pbar = tqdm(loader, total=len(loader))\n",
        "    for x, y in pbar:\n",
        "        x = x.to(device)\n",
        "        y = y.to(device)\n",
        "        with torch.set_grad_enabled(is_train):\n",
        "            preds = net(x)\n",
        "            loss = loss_fn_vm(preds, y)\n",
        "            acc = get_accuracy(preds, y)\n",
        "            losses.append(loss.item())\n",
        "            accs.append(acc.item())\n",
        "        if is_train:\n",
        "            optimizer_vm.zero_grad()\n",
        "            loss.backward()\n",
        "            optimizer_vm.step()\n",
        "        pbar.set_description(f'epoch={epoch}, train={int(is_train)}, loss={np.mean(losses):.4f}, acc={np.mean(accs):.4f}')"
      ]
    },
    {
      "cell_type": "code",
      "execution_count": 12,
      "metadata": {
        "colab": {
          "base_uri": "https://localhost:8080/"
        },
        "id": "gMzHCbQJiStX",
        "outputId": "dc8adc85-36b9-4d10-c3e9-e5a298eaa0e8"
      },
      "outputs": [],
      "source": [
        "# for epoch in range(n_epochs):\n",
        "#     loop_vm(gmlp_vm, train_loader_vm, True)\n",
        "#     loop_vm(gmlp_vm, val_loader_vm, False)"
      ]
    },
    {
      "cell_type": "code",
      "execution_count": 13,
      "metadata": {
        "id": "AfdpMjXjjyAJ"
      },
      "outputs": [],
      "source": [
        "@torch.no_grad()\n",
        "def recognize_img(net, img):\n",
        "    net.eval()\n",
        "    img = Image.open(img).convert(\"RGB\")\n",
        "    img = T(img).to(device)\n",
        "    pred = net(img.unsqueeze(0))\n",
        "    pred = pred.argmax(dim=1)\n",
        "    return train_data_vm.classes[pred.item()]"
      ]
    },
    {
      "cell_type": "code",
      "execution_count": 14,
      "metadata": {
        "colab": {
          "base_uri": "https://localhost:8080/"
        },
        "id": "VXbIw4q7kQoo",
        "outputId": "6b52f465-7f36-451f-92a4-2492b3ad9628"
      },
      "outputs": [],
      "source": [
        "# out = recognize_img(gmlp_vm, 'dog.jpg')\n",
        "# print(out)"
      ]
    },
    {
      "cell_type": "markdown",
      "metadata": {},
      "source": [
        "** Try with tiny image net "
      ]
    },
    {
      "cell_type": "code",
      "execution_count": 15,
      "metadata": {},
      "outputs": [],
      "source": [
        "# # hyperparameters for vision and language models\n",
        "# device = torch.device(\"cuda\" if torch.cuda.is_available() else \"cpu\")\n",
        "# n_epochs = 10\n",
        "# seq_len = 128\n",
        "# img_size = 64\n",
        "# batch_size = 64\n",
        "# n_classes = 200\n",
        "# lr = 3e-4\n",
        "# T = transforms.Compose(\n",
        "#     [\n",
        "#      transforms.Resize((img_size, img_size)),\n",
        "#      transforms.ToTensor()\n",
        "#     ]\n",
        "# )"
      ]
    },
    {
      "cell_type": "code",
      "execution_count": 16,
      "metadata": {},
      "outputs": [],
      "source": [
        "# # # Tiny Imagenet dataset\n",
        "\n",
        "# # Load the Tiny ImageNet dataset\n",
        "# train_data_tiny_imagenet = datasets.ImageFolder('tiny-imagenet-200/train', transform=T)\n",
        "# val_data_tiny_imagenet = datasets.ImageFolder('tiny-imagenet-200/val', transform=T)\n",
        "\n",
        "# # Create data loaders for Tiny ImageNet\n",
        "# train_loader_tiny_imagenet = DataLoader(train_data_tiny_imagenet, batch_size=batch_size, shuffle=True, num_workers=2, pin_memory=True)\n",
        "# val_loader_tiny_imagenet = DataLoader(val_data_tiny_imagenet, batch_size=batch_size, shuffle=False, num_workers=2, pin_memory=True)\n",
        "\n",
        "# # Print the shapes of the datasets\n",
        "# x_vm, y_vm = next(iter(val_loader_tiny_imagenet))\n",
        "# x_tiny_imagenet, y_tiny_imagenet = next(iter(train_loader_tiny_imagenet))\n",
        "# print(len(val_data_tiny_imagenet), x_vm.shape, y_vm.shape)\n",
        "# print(len(train_data_tiny_imagenet), x_tiny_imagenet.shape, y_tiny_imagenet.shape)"
      ]
    },
    {
      "cell_type": "code",
      "execution_count": 17,
      "metadata": {},
      "outputs": [],
      "source": [
        "# gmlp_vm = gMLPVisionModel(n_classes=n_classes).to(device)\n",
        "# inp = torch.randn(1, 3, img_size, img_size).to(device)\n",
        "# out = gmlp_vm(inp)\n",
        "# print(out.shape)\n",
        "# del inp, out"
      ]
    },
    {
      "cell_type": "code",
      "execution_count": 18,
      "metadata": {},
      "outputs": [],
      "source": [
        "# optimizer_vm = torch.optim.Adam(gmlp_vm.parameters(), lr=lr)\n",
        "# loss_fn_vm = nn.CrossEntropyLoss()\n",
        "# def get_accuracy(preds, y):\n",
        "#     preds = preds.argmax(dim=1, keepdim=True)\n",
        "#     correct = preds.squeeze(1).eq(y)\n",
        "#     acc = correct.sum() / torch.FloatTensor([y.shape[0]]).to(device)\n",
        "#     return acc"
      ]
    },
    {
      "cell_type": "code",
      "execution_count": 19,
      "metadata": {},
      "outputs": [],
      "source": [
        "#for epoch in range(n_epochs):\n",
        "    #loop_vm(gmlp_vm, train_loader_tiny_imagenet, True)\n",
        "    #loop_vm(gmlp_vm, val_loader_tiny_imagenet, False)"
      ]
    },
    {
      "cell_type": "markdown",
      "metadata": {},
      "source": []
    },
    {
      "cell_type": "code",
      "execution_count": 20,
      "metadata": {},
      "outputs": [],
      "source": [
        "from sklearn.metrics import precision_score, recall_score, confusion_matrix\n",
        "\n",
        "# Evaluate the model on the test dataset\n",
        "def evaluate_model(net, loader):\n",
        "    net.eval()\n",
        "    correct = 0\n",
        "    total = 0\n",
        "    all_labels = []\n",
        "    all_predictions = []\n",
        "    with torch.no_grad():\n",
        "        for images, labels in tqdm(loader, desc=\"Evaluating\"):\n",
        "            images = images.to(device)\n",
        "            labels = labels.to(device)\n",
        "            outputs = net(images)\n",
        "            _, predicted = torch.max(outputs.data, 1)\n",
        "            total += labels.size(0)\n",
        "            correct += (predicted == labels).sum().item()\n",
        "            all_labels.extend(labels.cpu().numpy())\n",
        "            all_predictions.extend(predicted.cpu().numpy())\n",
        "    accuracy = 100 * correct / total\n",
        "    precision = precision_score(all_labels, all_predictions, average='micro')\n",
        "    recall = recall_score(all_labels, all_predictions, average='micro')\n",
        "    conf_matrix = confusion_matrix(all_labels, all_predictions)\n",
        "    return accuracy, precision, recall, conf_matrix\n",
        "\n",
        "# Evaluate the model on the test dataset\n",
        "#test_accuracy = evaluate_model(gmlp_vm, test_loader_tiny_imagenet)\n",
        "#print(f\"Test Accuracy: {test_accuracy:.2f}%\")\n"
      ]
    },
    {
      "cell_type": "markdown",
      "metadata": {},
      "source": [
        "** Try with fashion MNIST"
      ]
    },
    {
      "cell_type": "code",
      "execution_count": 21,
      "metadata": {},
      "outputs": [],
      "source": [
        "# # hyperparameters for vision and language models\n",
        "# device = torch.device(\"cuda\" if torch.cuda.is_available() else \"cpu\")\n",
        "# n_epochs = 1\n",
        "# seq_len = 128\n",
        "# img_size = 28\n",
        "# batch_size = 128\n",
        "# n_classes = 10\n",
        "# lr = 3e-4\n",
        "# T = transforms.Compose(\n",
        "#     [\n",
        "#      transforms.Resize((img_size, img_size)),\n",
        "#      transforms.ToTensor()\n",
        "#     ]\n",
        "# )"
      ]
    },
    {
      "cell_type": "code",
      "execution_count": 22,
      "metadata": {},
      "outputs": [],
      "source": [
        "# from torch.utils.data import random_split\n",
        "\n",
        "# # Load the Fashion-MNIST dataset\n",
        "# full_train_data = datasets.FashionMNIST(root='./data', train=True, download=True, transform=T)\n",
        "# test_data = datasets.FashionMNIST(root='./data', train=False, download=True, transform=T)\n",
        "\n",
        "# # Split the full training dataset into a training dataset and a validation dataset\n",
        "# num_train = int(len(full_train_data) * 0.8)\n",
        "# num_val = len(full_train_data) - num_train\n",
        "# train_data, val_data = random_split(full_train_data, [num_train, num_val])\n",
        "\n",
        "# # Create data loaders\n",
        "# train_loader = DataLoader(train_data, batch_size=batch_size, shuffle=True)\n",
        "# val_loader = DataLoader(val_data, batch_size=batch_size, shuffle=False)\n",
        "# test_loader = DataLoader(test_data, batch_size=batch_size, shuffle=False)\n",
        "\n",
        "# # Print the shapes of the datasets\n",
        "# x_train, y_train = next(iter(train_loader))\n",
        "# x_val, y_val = next(iter(val_loader))\n",
        "# x_test, y_test = next(iter(test_loader))\n",
        "# print(len(train_data), x_train.shape, y_train.shape)\n",
        "# print(len(val_data), x_val.shape, y_val.shape)\n",
        "# print(len(test_data), x_test.shape, y_test.shape)"
      ]
    },
    {
      "cell_type": "code",
      "execution_count": 23,
      "metadata": {},
      "outputs": [],
      "source": [
        "# gmlp_vm = gMLPVisionModel(in_channels=1, n_classes=n_classes, image_size=28, patch_size=2, d_model=256, d_ffn=512, n_layers=6, dropout=0.1).to(device)\n",
        "# inp = torch.randn(1, 1, img_size, img_size).to(device)\n",
        "# out = gmlp_vm(inp)\n",
        "# print(out.shape)\n",
        "# del inp, out"
      ]
    },
    {
      "cell_type": "code",
      "execution_count": 24,
      "metadata": {},
      "outputs": [],
      "source": [
        "# optimizer_vm = torch.optim.Adam(gmlp_vm.parameters(), lr=lr)\n",
        "# loss_fn_vm = nn.CrossEntropyLoss()\n",
        "# def get_accuracy(preds, y):\n",
        "#     preds = preds.argmax(dim=1, keepdim=True)\n",
        "#     correct = preds.squeeze(1).eq(y)\n",
        "#     acc = correct.sum() / torch.FloatTensor([y.shape[0]]).to(device)\n",
        "#     return acc"
      ]
    },
    {
      "cell_type": "code",
      "execution_count": 25,
      "metadata": {},
      "outputs": [],
      "source": [
        "# for epoch in range(n_epochs):\n",
        "#     loop_vm(gmlp_vm, train_loader, True)\n",
        "#     loop_vm(gmlp_vm, val_loader, False)"
      ]
    },
    {
      "cell_type": "code",
      "execution_count": 26,
      "metadata": {},
      "outputs": [],
      "source": [
        "# import seaborn as sns\n",
        "# import matplotlib.pyplot as plt\n",
        "\n",
        "# # Evaluate the model and get the confusion matrix\n",
        "# test_accuracy, test_precision, test_recall, conf_matrix = evaluate_model(gmlp_vm, test_loader)\n",
        "\n",
        "# # Print the metrics\n",
        "# print(f\"Test Accuracy: {test_accuracy:.2f}%\")\n",
        "# print(f\"Test Precision: {test_precision * 100:.2f}%\")\n",
        "# print(f\"Test Recall: {test_recall * 100:.2f}%\")\n",
        "\n",
        "# class_names = test_data.classes\n",
        "\n",
        "# # Plot the confusion matrix\n",
        "# plt.figure(figsize=(10, 7))\n",
        "# sns.heatmap(conf_matrix, annot=True, fmt='d',xticklabels=class_names, yticklabels=class_names)\n",
        "# plt.xlabel('Predicted')\n",
        "# plt.ylabel('True')\n",
        "# plt.show()"
      ]
    },
    {
      "cell_type": "markdown",
      "metadata": {},
      "source": [
        "** Try EuroSAT dataset"
      ]
    },
    {
      "cell_type": "code",
      "execution_count": 27,
      "metadata": {},
      "outputs": [],
      "source": [
        "# hyperparameters for vision and language models\n",
        "device = torch.device(\"cuda\" if torch.cuda.is_available() else \"cpu\")\n",
        "n_epochs = 10\n",
        "seq_len = 128\n",
        "img_size = 28\n",
        "batch_size = 64\n",
        "n_classes = 10\n",
        "lr = 3e-4\n",
        "T = transforms.Compose(\n",
        "    [\n",
        "     transforms.Resize((img_size, img_size)),\n",
        "     transforms.ToTensor()\n",
        "    ]\n",
        ")"
      ]
    },
    {
      "cell_type": "code",
      "execution_count": 28,
      "metadata": {},
      "outputs": [
        {
          "name": "stdout",
          "output_type": "stream",
          "text": [
            "21600 torch.Size([64, 3, 28, 28]) torch.Size([64])\n",
            "2700 torch.Size([64, 3, 28, 28]) torch.Size([64])\n",
            "2700 torch.Size([64, 3, 28, 28]) torch.Size([64])\n"
          ]
        }
      ],
      "source": [
        "from sklearn.model_selection import train_test_split\n",
        "from PIL import Image\n",
        "\n",
        "# Load the EuroSAT dataset\n",
        "full_data = datasets.DatasetFolder(root='./EuroSAT_RGB', loader=Image.open, transform=T, extensions = 'jpg')\n",
        "\n",
        "# Get the targets\n",
        "targets = full_data.targets\n",
        "\n",
        "# Split the full dataset into a training dataset and a temporary dataset\n",
        "train_data, temp_data, train_targets, temp_targets = train_test_split(full_data, targets, test_size=0.2, stratify=targets)\n",
        "\n",
        "# Split the temporary dataset into validation and test datasets\n",
        "val_data, test_data, val_targets, test_targets = train_test_split(temp_data, temp_targets, test_size=0.5, stratify=temp_targets)\n",
        "\n",
        "# Create data loaders\n",
        "train_loader = DataLoader(train_data, batch_size=batch_size, shuffle=True, num_workers=3, drop_last=True)\n",
        "val_loader = DataLoader(val_data, batch_size=batch_size, shuffle=True, num_workers=2, drop_last=True)\n",
        "test_loader = DataLoader(test_data, batch_size=batch_size, shuffle=True, num_workers=2, drop_last=True)\n",
        "\n",
        "\n",
        "# Print the shapes of the datasets\n",
        "x_train, y_train = next(iter(train_loader))\n",
        "x_val, y_val = next(iter(val_loader))\n",
        "x_test, y_test = next(iter(test_loader))\n",
        "print(len(train_data), x_train.shape, y_train.shape)\n",
        "print(len(val_data), x_val.shape, y_val.shape)\n",
        "print(len(test_data), x_test.shape, y_test.shape)"
      ]
    },
    {
      "cell_type": "code",
      "execution_count": 29,
      "metadata": {},
      "outputs": [
        {
          "name": "stdout",
          "output_type": "stream",
          "text": [
            "torch.Size([1, 10])\n"
          ]
        }
      ],
      "source": [
        "gmlp_vm = gMLPVisionModel(in_channels=3, n_classes=n_classes, image_size=28, patch_size=2, d_model=256, d_ffn=512, n_layers=6, dropout=0.1).to(device)\n",
        "inp = torch.randn(1, 3, img_size, img_size).to(device)\n",
        "out = gmlp_vm(inp)\n",
        "print(out.shape)\n",
        "del inp, out"
      ]
    },
    {
      "cell_type": "code",
      "execution_count": 30,
      "metadata": {},
      "outputs": [],
      "source": [
        "optimizer_vm = torch.optim.Adam(gmlp_vm.parameters(), lr=lr)\n",
        "loss_fn_vm = nn.CrossEntropyLoss()\n",
        "def get_accuracy(preds, y):\n",
        "    preds = preds.argmax(dim=1, keepdim=True)\n",
        "    correct = preds.squeeze(1).eq(y)\n",
        "    acc = correct.sum() / torch.FloatTensor([y.shape[0]]).to(device)\n",
        "    return acc"
      ]
    },
    {
      "cell_type": "code",
      "execution_count": 31,
      "metadata": {},
      "outputs": [
        {
          "name": "stderr",
          "output_type": "stream",
          "text": [
            "epoch=0, train=1, loss=1.1438, acc=0.5819: 100%|██████████| 337/337 [01:32<00:00,  3.64it/s]\n",
            "epoch=0, train=0, loss=0.8816, acc=0.6849: 100%|██████████| 42/42 [00:13<00:00,  3.07it/s]\n",
            "epoch=1, train=1, loss=0.5722, acc=0.7927: 100%|██████████| 337/337 [01:26<00:00,  3.88it/s]\n",
            "epoch=1, train=0, loss=0.4443, acc=0.8434: 100%|██████████| 42/42 [00:11<00:00,  3.54it/s]\n",
            "epoch=2, train=1, loss=0.4315, acc=0.8488: 100%|██████████| 337/337 [01:28<00:00,  3.83it/s]\n",
            "epoch=2, train=0, loss=0.4252, acc=0.8564: 100%|██████████| 42/42 [00:15<00:00,  2.79it/s]\n",
            "epoch=3, train=1, loss=0.3431, acc=0.8769: 100%|██████████| 337/337 [01:32<00:00,  3.66it/s]\n",
            "epoch=3, train=0, loss=0.3693, acc=0.8709: 100%|██████████| 42/42 [00:12<00:00,  3.43it/s]\n",
            "epoch=4, train=1, loss=0.3068, acc=0.8929: 100%|██████████| 337/337 [01:27<00:00,  3.85it/s]\n",
            "epoch=4, train=0, loss=0.3994, acc=0.8616: 100%|██████████| 42/42 [00:12<00:00,  3.44it/s]\n",
            "epoch=5, train=1, loss=0.2649, acc=0.9039: 100%|██████████| 337/337 [01:29<00:00,  3.78it/s]\n",
            "epoch=5, train=0, loss=0.3373, acc=0.8772: 100%|██████████| 42/42 [00:14<00:00,  2.84it/s]\n",
            "epoch=6, train=1, loss=0.2262, acc=0.9210: 100%|██████████| 337/337 [01:30<00:00,  3.73it/s]\n",
            "epoch=6, train=0, loss=0.3378, acc=0.8884: 100%|██████████| 42/42 [00:12<00:00,  3.42it/s]\n",
            "epoch=7, train=1, loss=0.1933, acc=0.9306: 100%|██████████| 337/337 [01:27<00:00,  3.85it/s]\n",
            "epoch=7, train=0, loss=0.3254, acc=0.8906: 100%|██████████| 42/42 [00:12<00:00,  3.47it/s]\n",
            "epoch=8, train=1, loss=0.1650, acc=0.9396: 100%|██████████| 337/337 [01:28<00:00,  3.81it/s]\n",
            "epoch=8, train=0, loss=0.3316, acc=0.8899: 100%|██████████| 42/42 [00:16<00:00,  2.49it/s]\n",
            "epoch=9, train=1, loss=0.1459, acc=0.9497: 100%|██████████| 337/337 [01:40<00:00,  3.37it/s]\n",
            "epoch=9, train=0, loss=0.3066, acc=0.9025: 100%|██████████| 42/42 [00:12<00:00,  3.31it/s]\n"
          ]
        }
      ],
      "source": [
        "for epoch in range(n_epochs):\n",
        "    loop_vm(gmlp_vm, train_loader, True)\n",
        "    loop_vm(gmlp_vm, val_loader, False)"
      ]
    },
    {
      "cell_type": "code",
      "execution_count": 33,
      "metadata": {},
      "outputs": [
        {
          "name": "stderr",
          "output_type": "stream",
          "text": [
            "Evaluating: 100%|██████████| 42/42 [00:11<00:00,  3.53it/s]\n"
          ]
        },
        {
          "name": "stdout",
          "output_type": "stream",
          "text": [
            "Test Accuracy: 89.84%\n",
            "Test Precision: 89.84%\n",
            "Test Recall: 89.84%\n"
          ]
        },
        {
          "data": {
            "image/png": "[encoded data removed]",
            "text/plain": [
              "<Figure size 1000x700 with 2 Axes>"
            ]
          },
          "metadata": {},
          "output_type": "display_data"
        }
      ],
      "source": [
        "import seaborn as sns\n",
        "import matplotlib.pyplot as plt\n",
        "\n",
        "# Evaluate the model and get the confusion matrix\n",
        "test_accuracy, test_precision, test_recall, conf_matrix = evaluate_model(gmlp_vm, test_loader)\n",
        "\n",
        "# Print the metrics\n",
        "print(f\"Test Accuracy: {test_accuracy:.2f}%\")\n",
        "print(f\"Test Precision: {test_precision * 100:.2f}%\")\n",
        "print(f\"Test Recall: {test_recall * 100:.2f}%\")\n",
        "\n",
        "class_names = full_data.classes\n",
        "\n",
        "# Plot the confusion matrix\n",
        "plt.figure(figsize=(10, 7))\n",
        "sns.heatmap(conf_matrix, annot=True, fmt='d',xticklabels=class_names, yticklabels=class_names)\n",
        "plt.xlabel('Predicted')\n",
        "plt.ylabel('True')\n",
        "plt.show()"
      ]
    }
  ],
  "metadata": {
    "accelerator": "GPU",
    "colab": {
      "collapsed_sections": [],
      "name": "gmlp.ipynb",
      "provenance": []
    },
    "kernelspec": {
      "display_name": "Python 3",
      "name": "python3"
    },
    "language_info": {
      "codemirror_mode": {
        "name": "ipython",
        "version": 3
      },
      "file_extension": ".py",
      "mimetype": "text/x-python",
      "name": "python",
      "nbconvert_exporter": "python",
      "pygments_lexer": "ipython3",
      "version": "3.11.5"
    }
  },
  "nbformat": 4,
  "nbformat_minor": 0
}
